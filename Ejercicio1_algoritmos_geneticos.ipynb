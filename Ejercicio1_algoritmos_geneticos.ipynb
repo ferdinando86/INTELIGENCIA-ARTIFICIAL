{
 "cells": [
  {
   "cell_type": "markdown",
   "metadata": {},
   "source": [
    "## Diseño aerodinámico\n",
    "\n",
    "Existen cuatro variables que representan valores de parámetros para el diseño de el ala de una aeronave. Cada uno de estos parámetros puede tomar un valor entre 0 y 63.\n",
    "\n",
    "El modelo aerodinámico dice que la elevación del ala está dada por la formula:\n",
    "\n",
    "Elevación = (A - B)2 + (C - D)2 - (A-30)3 - (C-40)3\n",
    "\n",
    "Encontrar los valores de parámetros que maximicen la elevación del ala."
   ]
  },
  {
   "cell_type": "markdown",
   "metadata": {},
   "source": [
    "## Codificación\n",
    "\n",
    "- Definir como se codificará el problema"
   ]
  },
  {
   "cell_type": "markdown",
   "metadata": {},
   "source": [
    "Para este problema el cromosoma estará compuesto por 4 genes cada uno de ellos representará el valor de A,B,C y D."
   ]
  },
  {
   "cell_type": "markdown",
   "metadata": {},
   "source": [
    "## Adaptación\n",
    "\n",
    "- Definir como se calculará la adaptación de un individuo\n",
    "- ¿Existen estados que deben ser penalizados?\n"
   ]
  },
  {
   "cell_type": "markdown",
   "metadata": {},
   "source": []
  },
  {
   "cell_type": "code",
   "execution_count": 1,
   "metadata": {},
   "outputs": [],
   "source": [
    "import numpy\n",
    "import matplotlib\n",
    "import matplotlib.pyplot as plt\n",
    "#equation_inputs : valores de entrada\n",
    "#pop : población\n",
    "def cal_pop_fitness(population):\n",
    "    fitness = []\n",
    "    for pop in population:\n",
    "        fitness.append( (( pop[0] - pop[1])**2 + ( pop[2] - pop[3])**2 - (pop[0] - 30))**3 - (pop[2] - 40)**3 )\n",
    "    return fitness"
   ]
  },
  {
   "cell_type": "markdown",
   "metadata": {},
   "source": [
    "## Selección"
   ]
  },
  {
   "cell_type": "code",
   "execution_count": 2,
   "metadata": {},
   "outputs": [],
   "source": [
    "#pop: población\n",
    "#fitness: arreglo con los valores de adaptación\n",
    "#num_parent: cantidad de padres que se quieren obtener\n",
    "def select_mating_pool(pop, fitness, num_parents):\n",
    "    #Crear arreglo vacío que contendrá los padres seleccionados\n",
    "    parents = numpy.empty((num_parents, pop.shape[1]))\n",
    "    for parent_num in range(num_parents):\n",
    "        #Obtener individuo con mayor adaptación\n",
    "        max_fitness_idx = numpy.where(fitness == numpy.max(fitness))\n",
    "        #Obtener índice del individuo\n",
    "        max_fitness_idx = max_fitness_idx[0][0]\n",
    "        #Cargar individuo a la lista de padres\n",
    "        parents[parent_num, :] = pop[max_fitness_idx, :]\n",
    "        #Setear valor de adaptación a un valor muy malo para que no vuelva a ser elegido\n",
    "        fitness[max_fitness_idx] = -99999999999\n",
    "    #Devolver lista de padres\n",
    "    return parents"
   ]
  },
  {
   "cell_type": "markdown",
   "metadata": {},
   "source": [
    "## Cruza"
   ]
  },
  {
   "cell_type": "code",
   "execution_count": 3,
   "metadata": {},
   "outputs": [],
   "source": [
    "#parents: lista de padres\n",
    "#offspring_size: cantidad de hijos que se quieren obtener\n",
    "def crossover(parents, offspring_size):\n",
    "    #Generar arreglo vacío donde se guardarán los hijos\n",
    "    offspring = numpy.empty((offspring_size,parents.shape[1]))\n",
    "    #Definir punto de cruce en la mitad de los padre\n",
    "    crossover_point = numpy.uint8(parents.shape[0]/2)\n",
    "    for k in range(offspring_size):\n",
    "        # Índice del primer padre para realizar la cruza\n",
    "        parent1_idx = k%parents.shape[0]\n",
    "        # Índice del segundo padre para realizar la cruza\n",
    "        parent2_idx = (k+1)%parents.shape[0]\n",
    "        # Generar el primer hijo con la primer mitad de un padre y la segunda de otro\n",
    "        offspring[k, 0:crossover_point] = parents[parent1_idx, 0:crossover_point]\n",
    "        # Generar el segundo hijo con las partes opuestas\n",
    "        offspring[k, crossover_point:] = parents[parent2_idx, crossover_point:]\n",
    "    #Devolver lista de hijos\n",
    "    return offspring"
   ]
  },
  {
   "cell_type": "markdown",
   "metadata": {},
   "source": [
    "## Mutación"
   ]
  },
  {
   "cell_type": "code",
   "execution_count": 4,
   "metadata": {},
   "outputs": [],
   "source": [
    "#offspring_crossover: lista de hijos a mutar\n",
    "def mutation(offspring_crossover):\n",
    "    \n",
    "    for idx in range(offspring_crossover.shape[0]):\n",
    "        #Generar un valor aleatorio\n",
    "        random_value = numpy.random.uniform(0, 63)\n",
    "        # Sumar el valor aleatorio a uno de los genes\n",
    "        offspring_crossover[idx, numpy.random.randint(low=0, high=(offspring_crossover.shape[1]-1) )] = random_value\n",
    "        #offspring_crossover[idx, numpy.random.randint(low=0, high=(offspring_crossover.shape[1]-1) )] = offspring_crossover.shape[idx,offspring_crossover.shape[1] ] + random_value\n",
    "    #Devolver lista de hijos mutados\n",
    "    return offspring_crossover"
   ]
  },
  {
   "cell_type": "markdown",
   "metadata": {},
   "source": [
    "# Algoritmo"
   ]
  },
  {
   "cell_type": "code",
   "execution_count": 5,
   "metadata": {},
   "outputs": [
    {
     "name": "stdout",
     "output_type": "stream",
     "text": [
      "Población inicial: \n",
      "[[11.29595253  1.58743685 58.21674984 11.77466548]\n",
      " [ 8.17564502  5.09912151  2.67554881 11.57563641]\n",
      " [13.75372906 10.23688931 26.77156698 28.29503561]\n",
      " [12.13053561 57.68409131 31.7948896  25.78619378]\n",
      " [39.37050692  6.22790173  5.13166641 34.68437963]\n",
      " [22.73662744  9.50454632 54.7298678  56.74926193]\n",
      " [33.77562927 45.64869854 44.7831408  60.67106715]\n",
      " [44.099619   47.5494028  25.58223672 46.92656275]\n",
      " [29.84114402 26.27698004 26.72520928  5.9572634 ]\n",
      " [51.01014125  1.14739723 14.20473783 31.38337355]\n",
      " [10.95144609 39.58505949 37.68257928 29.11612091]\n",
      " [62.730565   43.61273291  4.25519076  4.79781833]\n",
      " [ 3.07351861 36.54180005 29.15796735 11.34171057]\n",
      " [ 5.16708329 32.6206085  31.59091967 48.98550751]\n",
      " [18.97905257 31.16265465  2.6189888  52.91476281]\n",
      " [49.59147136 47.4399094   3.44768169 59.60830731]\n",
      " [52.90416121 43.09321732 16.50713845  3.75990451]\n",
      " [23.60442358 30.19507498 13.2163441   8.62478869]\n",
      " [20.95244999 49.22548987 27.48630517 50.67778424]\n",
      " [61.81460307 46.45586302 38.21594692 41.89436407]\n",
      " [27.04756208 29.92619544 13.35382847  7.35702908]\n",
      " [51.33214279 54.80874808 15.13077488 54.68870179]\n",
      " [53.20155625 59.19174204 26.37562495 28.84435858]\n",
      " [ 4.0393511   4.86015531 36.65718845 25.29097236]\n",
      " [ 7.2285898  38.36099965  2.69657979 15.05103109]\n",
      " [45.47542747 48.22676598 23.76015425 38.1143742 ]\n",
      " [31.22775666 24.83013823 20.12140257 26.07490332]\n",
      " [32.60655425 19.13445286 43.76665776 42.25374387]\n",
      " [43.84603966 38.54437371 19.67654393 37.27413074]\n",
      " [14.5973526  44.91008853 59.78294549 51.29638597]\n",
      " [13.9314792  56.45175643 46.78343733 55.74397294]\n",
      " [45.33405832  6.83112455 18.08666587 60.58533279]\n",
      " [40.81440066 24.34165045 57.6101583  55.79803032]\n",
      " [18.79004216 27.51441341  6.16796514 15.68884949]\n",
      " [43.30755908 16.19987361  3.06827876 48.2078512 ]\n",
      " [34.50069805 53.08294965 10.21065801 22.05942554]\n",
      " [50.20630292 60.95055052 29.31828942 26.24502508]\n",
      " [24.14517427  1.63068147 56.60551828 13.06725187]\n",
      " [48.91122822 59.48667769 37.91227651 42.19573834]\n",
      " [16.0374212  60.38681231 41.15245564 10.61074257]\n",
      " [61.64037392 38.02346224 34.35271061 61.61007534]\n",
      " [62.00961784  4.3597463  22.05601252 49.00473598]\n",
      " [43.49413858 16.16800238 45.52186725  2.7018193 ]\n",
      " [20.77063414 25.71727788 48.62527985  6.28576852]\n",
      " [61.37477195 36.94389883 53.50530487  7.78408251]\n",
      " [24.23189965  6.38721708 53.18665975 36.69506696]\n",
      " [31.90059961 54.64307511 13.08826312  1.64163039]\n",
      " [52.91465807 60.15109809 15.03512724 55.35593393]\n",
      " [53.42212413 25.726458   50.28305393 17.88820864]\n",
      " [47.25449579 18.01083885 34.12646993 57.0932178 ]\n",
      " [43.73792314 23.00406766 18.90028199 47.74546994]\n",
      " [ 0.90575248 46.29487312 32.30291296  0.47785992]\n",
      " [20.58564425 26.93081189 33.75768498 52.80395438]\n",
      " [60.47655463  3.57080075 49.86143321 18.93433849]\n",
      " [ 9.59750063  8.73753959 28.83191403  9.91234008]\n",
      " [28.80996639 14.41868918 17.02752713 12.98316601]\n",
      " [ 5.78952799 25.04079935 28.78966095  4.67094153]\n",
      " [12.19242618 50.09035832 54.31548346 27.08920852]\n",
      " [54.69374947 58.27711633 40.04440747 26.10215149]\n",
      " [39.50416459  1.53193911  9.87542691 14.21630367]\n",
      " [37.90151104 10.67230311  6.60413761 21.50177012]\n",
      " [29.50463096  4.37199113 20.75871807 12.69146109]\n",
      " [56.88489152 18.61354767  7.71497928 24.95538482]\n",
      " [ 7.34161088 25.76931488 60.32253028 55.60369125]\n",
      " [22.75795133  0.79108887 57.47405946 43.1783226 ]\n",
      " [21.61984602 16.56700921 53.16418355  0.38843355]\n",
      " [28.17555711 23.16770923 44.35817095 21.00994757]\n",
      " [44.02016322 22.96040252  4.05235669 14.59247117]\n",
      " [50.81568219 25.26333072 37.44944535  1.37022171]\n",
      " [ 5.27417869 28.31121477 10.11373636 62.23464632]\n",
      " [23.83028172 54.74240479 49.75027978 56.14935067]\n",
      " [17.53502025 56.44904324 62.71260164 27.18209261]\n",
      " [ 2.95152203 51.10018615 53.07796174 37.67107737]\n",
      " [45.15906605 13.89121182 50.97920227 54.36290364]\n",
      " [ 5.14039545 11.88380894 47.46912181 35.6336162 ]\n",
      " [27.44077599 32.79891853 39.2066525  59.58111015]\n",
      " [46.40184561 56.0424138  19.36354382 60.62856674]\n",
      " [37.52979952 18.22558178 42.41560742 32.73394962]\n",
      " [26.51086935  3.60113754 23.88288269 41.5394137 ]\n",
      " [33.49391805 41.20918141 31.83410769  6.52400827]\n",
      " [52.11656489 15.35003098 48.32263654 36.60984517]\n",
      " [47.76189636  0.92969343 44.59214577 38.83789309]\n",
      " [13.91609067 44.11916772 55.95698282  3.44786079]\n",
      " [22.84639208 58.68623942 16.88714902 49.15299802]\n",
      " [ 1.75428216 29.32377572 58.6244002   4.64969936]\n",
      " [45.16037128 55.6791644  56.29511981 14.29769216]\n",
      " [27.69628016 42.64082371 32.83736662 58.03439769]\n",
      " [57.41321743 61.51418679 18.29642572  9.81241673]\n",
      " [30.38868267 18.74806897 57.79844775 11.01272218]\n",
      " [ 9.41694609 29.83209014 34.80917053 48.09041485]\n",
      " [ 3.65327471 55.38674162 18.41902938 30.7875191 ]\n",
      " [ 1.97362167  8.44632986  3.11941991  2.5044497 ]\n",
      " [22.80591763  1.57326068 51.26508251 39.76119495]\n",
      " [ 4.6983819  39.19736797 50.99296981 47.91975334]\n",
      " [11.35547154 17.9075436   4.73171897 44.34310687]\n",
      " [57.55002215  9.28812184  8.92464873 12.50109108]\n",
      " [26.78107048 51.39502171 34.01861214  0.71845872]\n",
      " [47.18511602 25.25368059  5.93681259 19.10464856]\n",
      " [13.6163481  14.88266256 14.89924747 53.26002241]\n",
      " [53.96518888 52.8410185  26.88662079 51.48761216]]\n"
     ]
    }
   ],
   "source": [
    "#Cantidad de genes\n",
    "num_genes = 4\n",
    "#Soluciones por población\n",
    "sol_per_pop = 100\n",
    "#Número de padres para cruza\n",
    "num_parents_mating = 10\n",
    "#Tamaño de la población\n",
    "pop_size = (sol_per_pop,num_genes) \n",
    "#Crear pobliación inicial con valores aleatorios\n",
    "new_population = numpy.random.uniform(low=0.0, high=63.0, size=pop_size)\n",
    "print(\"Población inicial: \")\n",
    "print(new_population)\n",
    "#Cantidad de generaciones a realizar\n",
    "num_generations = 30"
   ]
  },
  {
   "cell_type": "code",
   "execution_count": 6,
   "metadata": {},
   "outputs": [
    {
     "name": "stdout",
     "output_type": "stream",
     "text": [
      "Mejor resultado :  [[[ 0.24278692 62.92699831 62.82524977  4.64969936]]]\n",
      "Adaptación del mejor resultado :  396006746180.4323\n"
     ]
    },
    {
     "data": {
      "image/png": "[encoded data removed]",
      "text/plain": [
       "<Figure size 432x288 with 1 Axes>"
      ]
     },
     "metadata": {
      "needs_background": "light"
     },
     "output_type": "display_data"
    }
   ],
   "source": [
    "gen = []\n",
    "fit = []\n",
    "for generation in range(num_generations):\n",
    "    # Obtener valores de adaptación de la población\n",
    "    fitness = cal_pop_fitness(new_population)\n",
    "    # Selección\n",
    "    parents = select_mating_pool(new_population, fitness, \n",
    "                                      num_parents_mating)\n",
    "    # Cruza\n",
    "    offspring_crossover = crossover(parents,\n",
    "                                       offspring_size=(pop_size[0]-parents.shape[0]))\n",
    "\n",
    "    # Mutación\n",
    "    offspring_mutation = mutation(offspring_crossover)\n",
    "\n",
    "    # Crear nueva población basada en los padres y los hijos\n",
    "    new_population[0:parents.shape[0], :] = parents\n",
    "    new_population[parents.shape[0]:, :] = offspring_mutation\n",
    "       \n",
    "\n",
    "    # Obtener mejor resultado para la generación\n",
    "    fit.append(numpy.max(cal_pop_fitness(new_population)))\n",
    "    gen.append(generation)\n",
    "    \n",
    "\n",
    "#Obtener la mejor solución\n",
    "fitness = cal_pop_fitness(new_population)\n",
    "best_match_idx = numpy.where(fitness == numpy.max(fitness))\n",
    "print(\"Mejor resultado : \", new_population[best_match_idx, :])\n",
    "print(\"Adaptación del mejor resultado : \", fitness[best_match_idx[0][0]])\n",
    "\n",
    "#Gráfico\n",
    "fig, ax = plt.subplots()\n",
    "ax.plot(gen, fit, 'b')\n",
    "ax.set_ylabel('Fitness')\n",
    "ax.set_xlabel('Generation')\n",
    "plt.show()"
   ]
  },
  {
   "cell_type": "code",
   "execution_count": null,
   "metadata": {},
   "outputs": [],
   "source": []
  },
  {
   "cell_type": "code",
   "execution_count": null,
   "metadata": {},
   "outputs": [],
   "source": []
  }
 ],
 "metadata": {
  "kernelspec": {
   "display_name": "Python 3",
   "language": "python",
   "name": "python3"
  },
  "language_info": {
   "codemirror_mode": {
    "name": "ipython",
    "version": 3
   },
   "file_extension": ".py",
   "mimetype": "text/x-python",
   "name": "python",
   "nbconvert_exporter": "python",
   "pygments_lexer": "ipython3",
   "version": "3.7.6"
  }
 },
 "nbformat": 4,
 "nbformat_minor": 4
}
