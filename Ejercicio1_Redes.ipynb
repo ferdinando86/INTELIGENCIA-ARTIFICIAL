{
 "cells": [
  {
   "cell_type": "code",
   "execution_count": 5,
   "metadata": {},
   "outputs": [],
   "source": [
    "from sklearn import datasets\n",
    "from sklearn.model_selection import train_test_split\n",
    "from sklearn import metrics\n",
    "import numpy as np\n",
    "from sklearn.datasets import load_breast_cancer\n",
    "from sklearn.linear_model import Perceptron\n",
    "from sklearn.neural_network import MLPClassifier\n",
    "import matplotlib.pyplot as plt\n",
    "\n",
    "\n",
    "cancer = load_breast_cancer()\n",
    "X_train, X_test, y_train, y_test = train_test_split(cancer.data, cancer.target, test_size=0.3,random_state=109)\n"
   ]
  },
  {
   "cell_type": "markdown",
   "metadata": {},
   "source": [
    "## Perceptron\n",
    "\n",
    "Clasificar los datos correspondientes al dataset de pacientes con cancer utilizando un perceptron\n"
   ]
  },
  {
   "cell_type": "code",
   "execution_count": 6,
   "metadata": {},
   "outputs": [
    {
     "name": "stdout",
     "output_type": "stream",
     "text": [
      "Cantidad de iteraciones: 27\n"
     ]
    },
    {
     "data": {
      "image/png": "[encoded data removed]",
      "text/plain": [
       "<Figure size 432x288 with 2 Axes>"
      ]
     },
     "metadata": {
      "needs_background": "light"
     },
     "output_type": "display_data"
    }
   ],
   "source": [
    "p = Perceptron(\n",
    "             # random_state=42,\n",
    "              max_iter=150,\n",
    "              tol=0.001              \n",
    "              )\n",
    "p.fit(X_train, y_train)\n",
    "print(\"Cantidad de iteraciones: \" +str(p.n_iter_))\n",
    "disp = metrics.plot_confusion_matrix(p, X_test, y_test,cmap=plt.cm.Blues)\n",
    "disp.ax_.set_title('Confusion Matrix')\n",
    "plt.show()"
   ]
  },
  {
   "cell_type": "markdown",
   "metadata": {},
   "source": [
    "- ¿Es posible clasificar correctamente los casos utilizando un Perceptron?\n",
    "Si es posible clasificar utilizando un Perceptron\n",
    "- ¿Cuántas iteraciones son necesarias?\n",
    "27 iteraciones"
   ]
  },
  {
   "cell_type": "markdown",
   "metadata": {},
   "source": [
    "Si es posible clasificar correctamente utilizando un Perceptron\n",
    "Son necesarias 27 iteraciones"
   ]
  },
  {
   "cell_type": "markdown",
   "metadata": {},
   "source": [
    "## Perceptron multicapa\n",
    "\n",
    "Clasificar los datos correspondientes al dataset de pacientes con cancer utilizando un perceptron multicapa"
   ]
  },
  {
   "cell_type": "code",
   "execution_count": 3,
   "metadata": {},
   "outputs": [
    {
     "name": "stdout",
     "output_type": "stream",
     "text": [
      "Iteration 1, loss = 72.84774211\n",
      "Iteration 2, loss = 65.77656495\n",
      "Iteration 3, loss = 58.51031228\n",
      "Iteration 4, loss = 51.29784385\n",
      "Iteration 5, loss = 44.20517574\n",
      "Iteration 6, loss = 37.06605255\n",
      "Iteration 7, loss = 30.02325882\n",
      "Iteration 8, loss = 22.96564406\n",
      "Iteration 9, loss = 16.39125112\n",
      "Iteration 10, loss = 9.85956512\n",
      "Iteration 11, loss = inf\n",
      "Iteration 12, loss = inf\n",
      "Iteration 13, loss = inf\n",
      "Iteration 14, loss = inf\n",
      "Iteration 15, loss = inf\n",
      "Iteration 16, loss = inf\n",
      "Iteration 17, loss = inf\n",
      "Iteration 18, loss = inf\n",
      "Iteration 19, loss = inf\n",
      "Iteration 20, loss = inf\n",
      "Iteration 21, loss = inf\n",
      "Training loss did not improve more than tol=0.000100 for 10 consecutive epochs. Stopping.\n"
     ]
    },
    {
     "data": {
      "text/plain": [
       "MLPClassifier(activation='identity', alpha=0.0001, batch_size='auto',\n",
       "              beta_1=0.9, beta_2=0.999, early_stopping=False, epsilon=1e-08,\n",
       "              hidden_layer_sizes=10, learning_rate='constant',\n",
       "              learning_rate_init=0.001, max_fun=15000, max_iter=1000,\n",
       "              momentum=0.9, n_iter_no_change=10, nesterovs_momentum=True,\n",
       "              power_t=0.5, random_state=None, shuffle=True, solver='adam',\n",
       "              tol=0.0001, validation_fraction=0.1, verbose=True,\n",
       "              warm_start=False)"
      ]
     },
     "execution_count": 3,
     "metadata": {},
     "output_type": "execute_result"
    }
   ],
   "source": [
    "activation = \"identity\"\n",
    "#activation = \"logistic\"\n",
    "#activation = \"tanh\"\n",
    "#activation = \"relu\"\n",
    "mlp = MLPClassifier(#random_state=42,\n",
    "                    hidden_layer_sizes=(10),\n",
    "                    max_iter = 1000,\n",
    "                    activation = activation,\n",
    "                    verbose = True\n",
    "                    )\n",
    "mlp.fit(X_train, y_train)"
   ]
  },
  {
   "cell_type": "markdown",
   "metadata": {},
   "source": [
    "- ¿Es posible clasificar correctamente los casos utilizando un Perceptron?\n",
    "- ¿Cuántas iteraciones son necesarias?\n"
   ]
  },
  {
   "cell_type": "markdown",
   "metadata": {},
   "source": [
    "Si es posible, son necesarias 212 iteraciones"
   ]
  },
  {
   "cell_type": "code",
   "execution_count": 4,
   "metadata": {},
   "outputs": [
    {
     "name": "stdout",
     "output_type": "stream",
     "text": [
      "Cantidad de iteraciones: 21\n"
     ]
    },
    {
     "data": {
      "image/png": "[encoded data removed]",
      "text/plain": [
       "<Figure size 432x288 with 2 Axes>"
      ]
     },
     "metadata": {
      "needs_background": "light"
     },
     "output_type": "display_data"
    }
   ],
   "source": [
    "print(\"Cantidad de iteraciones: \" +str(mlp.n_iter_))\n",
    "disp = metrics.plot_confusion_matrix(mlp, X_test, y_test,cmap=plt.cm.Blues)\n",
    "disp.ax_.set_title('Confusion Matrix')\n",
    "plt.show()"
   ]
  }
 ],
 "metadata": {
  "kernelspec": {
   "display_name": "Python 3",
   "language": "python",
   "name": "python3"
  },
  "language_info": {
   "codemirror_mode": {
    "name": "ipython",
    "version": 3
   },
   "file_extension": ".py",
   "mimetype": "text/x-python",
   "name": "python",
   "nbconvert_exporter": "python",
   "pygments_lexer": "ipython3",
   "version": "3.7.6"
  }
 },
 "nbformat": 4,
 "nbformat_minor": 4
}
